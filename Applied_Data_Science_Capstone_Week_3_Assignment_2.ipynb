{
 "cells": [
  {
   "cell_type": "markdown",
   "metadata": {},
   "source": [
    "### Import Standard libraries"
   ]
  },
  {
   "cell_type": "code",
   "execution_count": 2,
   "metadata": {},
   "outputs": [],
   "source": [
    "import pandas as pd\n",
    "import numpy as np"
   ]
  },
  {
   "cell_type": "markdown",
   "metadata": {},
   "source": [
    "## Method 1 using Beautiful Soup"
   ]
  },
  {
   "cell_type": "code",
   "execution_count": 3,
   "metadata": {},
   "outputs": [],
   "source": [
    "# Import Beautiful Soup and requests library\n",
    "import requests\n",
    "from bs4 import BeautifulSoup\n",
    "\n",
    "wiki_url = requests.get('https://en.wikipedia.org/wiki/List_of_postal_codes_of_Canada:_M').text\n",
    "soup = BeautifulSoup(wiki_url,'html.parser')"
   ]
  },
  {
   "cell_type": "code",
   "execution_count": 4,
   "metadata": {},
   "outputs": [
    {
     "data": {
      "text/plain": [
       "(180, 3)"
      ]
     },
     "execution_count": 4,
     "metadata": {},
     "output_type": "execute_result"
    }
   ],
   "source": [
    "postal_codes = []\n",
    "items = soup.find('table',{'class':'wikitable sortable'}).findAll('tr')\n",
    "for item in items:\n",
    "    data = item.findAll(['th','td'])\n",
    "    data = [x.text.strip() for x in data]\n",
    "    postal_codes.append(data)\n",
    "df_postal_codes = pd.DataFrame(postal_codes[1::],columns=postal_codes[0])\n",
    "df_postal_codes.shape"
   ]
  },
  {
   "cell_type": "markdown",
   "metadata": {},
   "source": [
    "## Method 2 using wikipedia Python library"
   ]
  },
  {
   "cell_type": "code",
   "execution_count": 5,
   "metadata": {},
   "outputs": [
    {
     "data": {
      "text/plain": [
       "(180, 3)"
      ]
     },
     "execution_count": 5,
     "metadata": {},
     "output_type": "execute_result"
    }
   ],
   "source": [
    "#Import Wikipedia library\n",
    "import wikipedia as wp\n",
    "\n",
    "html = wp.page(\"List_of_postal_codes_of_Canada:_M\").html().encode(\"UTF-8\")\n",
    "df_postal_codes = pd.read_html(html)[0]\n",
    "df_postal_codes.shape"
   ]
  },
  {
   "cell_type": "markdown",
   "metadata": {},
   "source": [
    "### convert all cells in the dataframe to upper case"
   ]
  },
  {
   "cell_type": "code",
   "execution_count": 6,
   "metadata": {},
   "outputs": [
    {
     "data": {
      "text/html": [
       "<div>\n",
       "<style scoped>\n",
       "    .dataframe tbody tr th:only-of-type {\n",
       "        vertical-align: middle;\n",
       "    }\n",
       "\n",
       "    .dataframe tbody tr th {\n",
       "        vertical-align: top;\n",
       "    }\n",
       "\n",
       "    .dataframe thead th {\n",
       "        text-align: right;\n",
       "    }\n",
       "</style>\n",
       "<table border=\"1\" class=\"dataframe\">\n",
       "  <thead>\n",
       "    <tr style=\"text-align: right;\">\n",
       "      <th></th>\n",
       "      <th>Postal Code</th>\n",
       "      <th>Borough</th>\n",
       "      <th>Neighborhood</th>\n",
       "    </tr>\n",
       "  </thead>\n",
       "  <tbody>\n",
       "    <tr>\n",
       "      <th>0</th>\n",
       "      <td>M1A</td>\n",
       "      <td>NOT ASSIGNED</td>\n",
       "      <td>NOT ASSIGNED</td>\n",
       "    </tr>\n",
       "    <tr>\n",
       "      <th>1</th>\n",
       "      <td>M2A</td>\n",
       "      <td>NOT ASSIGNED</td>\n",
       "      <td>NOT ASSIGNED</td>\n",
       "    </tr>\n",
       "    <tr>\n",
       "      <th>2</th>\n",
       "      <td>M3A</td>\n",
       "      <td>NORTH YORK</td>\n",
       "      <td>PARKWOODS</td>\n",
       "    </tr>\n",
       "    <tr>\n",
       "      <th>3</th>\n",
       "      <td>M4A</td>\n",
       "      <td>NORTH YORK</td>\n",
       "      <td>VICTORIA VILLAGE</td>\n",
       "    </tr>\n",
       "    <tr>\n",
       "      <th>4</th>\n",
       "      <td>M5A</td>\n",
       "      <td>DOWNTOWN TORONTO</td>\n",
       "      <td>REGENT PARK, HARBOURFRONT</td>\n",
       "    </tr>\n",
       "  </tbody>\n",
       "</table>\n",
       "</div>"
      ],
      "text/plain": [
       "  Postal Code           Borough               Neighborhood\n",
       "0         M1A      NOT ASSIGNED               NOT ASSIGNED\n",
       "1         M2A      NOT ASSIGNED               NOT ASSIGNED\n",
       "2         M3A        NORTH YORK                  PARKWOODS\n",
       "3         M4A        NORTH YORK           VICTORIA VILLAGE\n",
       "4         M5A  DOWNTOWN TORONTO  REGENT PARK, HARBOURFRONT"
      ]
     },
     "execution_count": 6,
     "metadata": {},
     "output_type": "execute_result"
    }
   ],
   "source": [
    "df_postal_codes = df_postal_codes.apply(lambda x: x.str.upper())\n",
    "df_postal_codes.head()"
   ]
  },
  {
   "cell_type": "code",
   "execution_count": 7,
   "metadata": {},
   "outputs": [
    {
     "data": {
      "text/plain": [
       "NOT ASSIGNED        77\n",
       "NORTH YORK          24\n",
       "DOWNTOWN TORONTO    19\n",
       "SCARBOROUGH         17\n",
       "ETOBICOKE           12\n",
       "CENTRAL TORONTO      9\n",
       "WEST TORONTO         6\n",
       "YORK                 5\n",
       "EAST YORK            5\n",
       "EAST TORONTO         5\n",
       "MISSISSAUGA          1\n",
       "Name: Borough, dtype: int64"
      ]
     },
     "execution_count": 7,
     "metadata": {},
     "output_type": "execute_result"
    }
   ],
   "source": [
    "df_postal_codes['Borough'].value_counts()"
   ]
  },
  {
   "cell_type": "markdown",
   "metadata": {},
   "source": [
    "### cleanup Burough and Neighborhood columns as per instructions\n",
    "___Only process the cells that have an assigned borough. Ignore cells with a borough that is Not assigned.___\n",
    "\n",
    "\n",
    "___If a cell has a borough but a Not assigned neighborhood, then the neighborhood will be the same as the borough.___"
   ]
  },
  {
   "cell_type": "code",
   "execution_count": 8,
   "metadata": {},
   "outputs": [
    {
     "data": {
      "text/plain": [
       "(103, 3)"
      ]
     },
     "execution_count": 8,
     "metadata": {},
     "output_type": "execute_result"
    }
   ],
   "source": [
    "df_postal_codes = df_postal_codes[df_postal_codes['Borough'] != 'NOT ASSIGNED']\n",
    "df_postal_codes.loc[(df_postal_codes['Neighborhood']=='NOT ASSIGNED')&(df_postal_codes['Borough']!='NOT ASSIGNED'), 'Neighborhood'] = df_postal_codes['Borough']\n",
    "df_postal_codes.shape"
   ]
  },
  {
   "cell_type": "code",
   "execution_count": 9,
   "metadata": {},
   "outputs": [
    {
     "data": {
      "text/html": [
       "<div>\n",
       "<style scoped>\n",
       "    .dataframe tbody tr th:only-of-type {\n",
       "        vertical-align: middle;\n",
       "    }\n",
       "\n",
       "    .dataframe tbody tr th {\n",
       "        vertical-align: top;\n",
       "    }\n",
       "\n",
       "    .dataframe thead th {\n",
       "        text-align: right;\n",
       "    }\n",
       "</style>\n",
       "<table border=\"1\" class=\"dataframe\">\n",
       "  <thead>\n",
       "    <tr style=\"text-align: right;\">\n",
       "      <th></th>\n",
       "      <th>Postal Code</th>\n",
       "      <th>Borough</th>\n",
       "      <th>Neighborhood</th>\n",
       "    </tr>\n",
       "  </thead>\n",
       "  <tbody>\n",
       "    <tr>\n",
       "      <th>count</th>\n",
       "      <td>103</td>\n",
       "      <td>103</td>\n",
       "      <td>103</td>\n",
       "    </tr>\n",
       "    <tr>\n",
       "      <th>unique</th>\n",
       "      <td>103</td>\n",
       "      <td>10</td>\n",
       "      <td>99</td>\n",
       "    </tr>\n",
       "    <tr>\n",
       "      <th>top</th>\n",
       "      <td>M2N</td>\n",
       "      <td>NORTH YORK</td>\n",
       "      <td>DOWNSVIEW</td>\n",
       "    </tr>\n",
       "    <tr>\n",
       "      <th>freq</th>\n",
       "      <td>1</td>\n",
       "      <td>24</td>\n",
       "      <td>4</td>\n",
       "    </tr>\n",
       "  </tbody>\n",
       "</table>\n",
       "</div>"
      ],
      "text/plain": [
       "       Postal Code     Borough Neighborhood\n",
       "count          103         103          103\n",
       "unique         103          10           99\n",
       "top            M2N  NORTH YORK    DOWNSVIEW\n",
       "freq             1          24            4"
      ]
     },
     "execution_count": 9,
     "metadata": {},
     "output_type": "execute_result"
    }
   ],
   "source": [
    "df_postal_codes.describe()"
   ]
  },
  {
   "cell_type": "code",
   "execution_count": 10,
   "metadata": {},
   "outputs": [
    {
     "data": {
      "text/plain": [
       "(103, 3)"
      ]
     },
     "execution_count": 10,
     "metadata": {},
     "output_type": "execute_result"
    }
   ],
   "source": [
    "df_postal_codes.shape"
   ]
  },
  {
   "cell_type": "markdown",
   "metadata": {},
   "source": [
    "## We will be using pgeocode for Geo Location translation"
   ]
  },
  {
   "cell_type": "code",
   "execution_count": 15,
   "metadata": {},
   "outputs": [],
   "source": [
    "import pgeocode\n",
    "#setup Nominatim for CANADA\n",
    "nomi = pgeocode.Nominatim('ca')"
   ]
  },
  {
   "cell_type": "markdown",
   "metadata": {},
   "source": [
    "### Loop thru all postal codes in the Dataframe and add the Latitude and Longitude from pgeocode"
   ]
  },
  {
   "cell_type": "code",
   "execution_count": 18,
   "metadata": {},
   "outputs": [
    {
     "data": {
      "text/html": [
       "<div>\n",
       "<style scoped>\n",
       "    .dataframe tbody tr th:only-of-type {\n",
       "        vertical-align: middle;\n",
       "    }\n",
       "\n",
       "    .dataframe tbody tr th {\n",
       "        vertical-align: top;\n",
       "    }\n",
       "\n",
       "    .dataframe thead th {\n",
       "        text-align: right;\n",
       "    }\n",
       "</style>\n",
       "<table border=\"1\" class=\"dataframe\">\n",
       "  <thead>\n",
       "    <tr style=\"text-align: right;\">\n",
       "      <th></th>\n",
       "      <th>Postal Code</th>\n",
       "      <th>Borough</th>\n",
       "      <th>Neighborhood</th>\n",
       "      <th>Latitude</th>\n",
       "      <th>Longitude</th>\n",
       "    </tr>\n",
       "  </thead>\n",
       "  <tbody>\n",
       "    <tr>\n",
       "      <th>2</th>\n",
       "      <td>M3A</td>\n",
       "      <td>NORTH YORK</td>\n",
       "      <td>PARKWOODS</td>\n",
       "      <td>43.7545</td>\n",
       "      <td>-79.3300</td>\n",
       "    </tr>\n",
       "    <tr>\n",
       "      <th>3</th>\n",
       "      <td>M4A</td>\n",
       "      <td>NORTH YORK</td>\n",
       "      <td>VICTORIA VILLAGE</td>\n",
       "      <td>43.7276</td>\n",
       "      <td>-79.3148</td>\n",
       "    </tr>\n",
       "    <tr>\n",
       "      <th>4</th>\n",
       "      <td>M5A</td>\n",
       "      <td>DOWNTOWN TORONTO</td>\n",
       "      <td>REGENT PARK, HARBOURFRONT</td>\n",
       "      <td>43.6555</td>\n",
       "      <td>-79.3626</td>\n",
       "    </tr>\n",
       "    <tr>\n",
       "      <th>5</th>\n",
       "      <td>M6A</td>\n",
       "      <td>NORTH YORK</td>\n",
       "      <td>LAWRENCE MANOR, LAWRENCE HEIGHTS</td>\n",
       "      <td>43.7223</td>\n",
       "      <td>-79.4504</td>\n",
       "    </tr>\n",
       "    <tr>\n",
       "      <th>6</th>\n",
       "      <td>M7A</td>\n",
       "      <td>DOWNTOWN TORONTO</td>\n",
       "      <td>QUEEN'S PARK, ONTARIO PROVINCIAL GOVERNMENT</td>\n",
       "      <td>43.6641</td>\n",
       "      <td>-79.3889</td>\n",
       "    </tr>\n",
       "  </tbody>\n",
       "</table>\n",
       "</div>"
      ],
      "text/plain": [
       "  Postal Code           Borough                                 Neighborhood  \\\n",
       "2         M3A        NORTH YORK                                    PARKWOODS   \n",
       "3         M4A        NORTH YORK                             VICTORIA VILLAGE   \n",
       "4         M5A  DOWNTOWN TORONTO                    REGENT PARK, HARBOURFRONT   \n",
       "5         M6A        NORTH YORK             LAWRENCE MANOR, LAWRENCE HEIGHTS   \n",
       "6         M7A  DOWNTOWN TORONTO  QUEEN'S PARK, ONTARIO PROVINCIAL GOVERNMENT   \n",
       "\n",
       "   Latitude  Longitude  \n",
       "2   43.7545   -79.3300  \n",
       "3   43.7276   -79.3148  \n",
       "4   43.6555   -79.3626  \n",
       "5   43.7223   -79.4504  \n",
       "6   43.6641   -79.3889  "
      ]
     },
     "execution_count": 18,
     "metadata": {},
     "output_type": "execute_result"
    }
   ],
   "source": [
    "for index, row in df_postal_codes.iterrows():\n",
    "    geo_code = nomi.query_postal_code(row[0])\n",
    "    df_postal_codes.loc[index,'Latitude']= geo_code['latitude']\n",
    "    df_postal_codes.loc[index,'Longitude'] = geo_code['longitude']\n",
    "df_postal_codes.head()"
   ]
  },
  {
   "cell_type": "markdown",
   "metadata": {},
   "source": [
    "### Check for any probable nulls"
   ]
  },
  {
   "cell_type": "code",
   "execution_count": 19,
   "metadata": {},
   "outputs": [
    {
     "data": {
      "text/html": [
       "<div>\n",
       "<style scoped>\n",
       "    .dataframe tbody tr th:only-of-type {\n",
       "        vertical-align: middle;\n",
       "    }\n",
       "\n",
       "    .dataframe tbody tr th {\n",
       "        vertical-align: top;\n",
       "    }\n",
       "\n",
       "    .dataframe thead th {\n",
       "        text-align: right;\n",
       "    }\n",
       "</style>\n",
       "<table border=\"1\" class=\"dataframe\">\n",
       "  <thead>\n",
       "    <tr style=\"text-align: right;\">\n",
       "      <th></th>\n",
       "      <th>Postal Code</th>\n",
       "      <th>Borough</th>\n",
       "      <th>Neighborhood</th>\n",
       "      <th>Latitude</th>\n",
       "      <th>Longitude</th>\n",
       "    </tr>\n",
       "  </thead>\n",
       "  <tbody>\n",
       "    <tr>\n",
       "      <th>114</th>\n",
       "      <td>M7R</td>\n",
       "      <td>MISSISSAUGA</td>\n",
       "      <td>CANADA POST GATEWAY PROCESSING CENTRE</td>\n",
       "      <td>NaN</td>\n",
       "      <td>NaN</td>\n",
       "    </tr>\n",
       "  </tbody>\n",
       "</table>\n",
       "</div>"
      ],
      "text/plain": [
       "    Postal Code      Borough                           Neighborhood  Latitude  \\\n",
       "114         M7R  MISSISSAUGA  CANADA POST GATEWAY PROCESSING CENTRE       NaN   \n",
       "\n",
       "     Longitude  \n",
       "114        NaN  "
      ]
     },
     "execution_count": 19,
     "metadata": {},
     "output_type": "execute_result"
    }
   ],
   "source": [
    "df_postal_codes[df_postal_codes.isnull().any(axis=1)]"
   ]
  },
  {
   "cell_type": "markdown",
   "metadata": {},
   "source": [
    "### Since there are nulls, we will use the Geospatial file to update the null values with coordinates."
   ]
  },
  {
   "cell_type": "code",
   "execution_count": 20,
   "metadata": {},
   "outputs": [],
   "source": [
    "geo_data = pd.read_csv('Geospatial_Coordinates.csv')"
   ]
  },
  {
   "cell_type": "code",
   "execution_count": 21,
   "metadata": {},
   "outputs": [],
   "source": [
    "for index, row in df_postal_codes[df_postal_codes.isnull().any(axis=1)].iterrows():\n",
    "    df_postal_codes.loc[index, 'Latitude'] = geo_data[geo_data['Postal Code'] == row[0]].Latitude.iloc[0]\n",
    "    df_postal_codes.loc[index, 'Longitude'] = geo_data[geo_data['Postal Code'] == row[0]].Longitude.iloc[0]"
   ]
  },
  {
   "cell_type": "code",
   "execution_count": 22,
   "metadata": {},
   "outputs": [
    {
     "data": {
      "text/html": [
       "<div>\n",
       "<style scoped>\n",
       "    .dataframe tbody tr th:only-of-type {\n",
       "        vertical-align: middle;\n",
       "    }\n",
       "\n",
       "    .dataframe tbody tr th {\n",
       "        vertical-align: top;\n",
       "    }\n",
       "\n",
       "    .dataframe thead th {\n",
       "        text-align: right;\n",
       "    }\n",
       "</style>\n",
       "<table border=\"1\" class=\"dataframe\">\n",
       "  <thead>\n",
       "    <tr style=\"text-align: right;\">\n",
       "      <th></th>\n",
       "      <th>Postal Code</th>\n",
       "      <th>Borough</th>\n",
       "      <th>Neighborhood</th>\n",
       "      <th>Latitude</th>\n",
       "      <th>Longitude</th>\n",
       "    </tr>\n",
       "  </thead>\n",
       "  <tbody>\n",
       "  </tbody>\n",
       "</table>\n",
       "</div>"
      ],
      "text/plain": [
       "Empty DataFrame\n",
       "Columns: [Postal Code, Borough, Neighborhood, Latitude, Longitude]\n",
       "Index: []"
      ]
     },
     "execution_count": 22,
     "metadata": {},
     "output_type": "execute_result"
    }
   ],
   "source": [
    "df_postal_codes[df_postal_codes.isnull().any(axis=1)]"
   ]
  },
  {
   "cell_type": "code",
   "execution_count": 24,
   "metadata": {},
   "outputs": [
    {
     "data": {
      "text/html": [
       "<div>\n",
       "<style scoped>\n",
       "    .dataframe tbody tr th:only-of-type {\n",
       "        vertical-align: middle;\n",
       "    }\n",
       "\n",
       "    .dataframe tbody tr th {\n",
       "        vertical-align: top;\n",
       "    }\n",
       "\n",
       "    .dataframe thead th {\n",
       "        text-align: right;\n",
       "    }\n",
       "</style>\n",
       "<table border=\"1\" class=\"dataframe\">\n",
       "  <thead>\n",
       "    <tr style=\"text-align: right;\">\n",
       "      <th></th>\n",
       "      <th>Postal Code</th>\n",
       "      <th>Borough</th>\n",
       "      <th>Neighborhood</th>\n",
       "      <th>Latitude</th>\n",
       "      <th>Longitude</th>\n",
       "    </tr>\n",
       "  </thead>\n",
       "  <tbody>\n",
       "    <tr>\n",
       "      <th>2</th>\n",
       "      <td>M3A</td>\n",
       "      <td>NORTH YORK</td>\n",
       "      <td>PARKWOODS</td>\n",
       "      <td>43.7545</td>\n",
       "      <td>-79.3300</td>\n",
       "    </tr>\n",
       "    <tr>\n",
       "      <th>3</th>\n",
       "      <td>M4A</td>\n",
       "      <td>NORTH YORK</td>\n",
       "      <td>VICTORIA VILLAGE</td>\n",
       "      <td>43.7276</td>\n",
       "      <td>-79.3148</td>\n",
       "    </tr>\n",
       "    <tr>\n",
       "      <th>4</th>\n",
       "      <td>M5A</td>\n",
       "      <td>DOWNTOWN TORONTO</td>\n",
       "      <td>REGENT PARK, HARBOURFRONT</td>\n",
       "      <td>43.6555</td>\n",
       "      <td>-79.3626</td>\n",
       "    </tr>\n",
       "    <tr>\n",
       "      <th>5</th>\n",
       "      <td>M6A</td>\n",
       "      <td>NORTH YORK</td>\n",
       "      <td>LAWRENCE MANOR, LAWRENCE HEIGHTS</td>\n",
       "      <td>43.7223</td>\n",
       "      <td>-79.4504</td>\n",
       "    </tr>\n",
       "    <tr>\n",
       "      <th>6</th>\n",
       "      <td>M7A</td>\n",
       "      <td>DOWNTOWN TORONTO</td>\n",
       "      <td>QUEEN'S PARK, ONTARIO PROVINCIAL GOVERNMENT</td>\n",
       "      <td>43.6641</td>\n",
       "      <td>-79.3889</td>\n",
       "    </tr>\n",
       "    <tr>\n",
       "      <th>8</th>\n",
       "      <td>M9A</td>\n",
       "      <td>ETOBICOKE</td>\n",
       "      <td>ISLINGTON AVENUE, HUMBER VALLEY VILLAGE</td>\n",
       "      <td>43.6662</td>\n",
       "      <td>-79.5282</td>\n",
       "    </tr>\n",
       "    <tr>\n",
       "      <th>9</th>\n",
       "      <td>M1B</td>\n",
       "      <td>SCARBOROUGH</td>\n",
       "      <td>MALVERN, ROUGE</td>\n",
       "      <td>43.8113</td>\n",
       "      <td>-79.1930</td>\n",
       "    </tr>\n",
       "    <tr>\n",
       "      <th>11</th>\n",
       "      <td>M3B</td>\n",
       "      <td>NORTH YORK</td>\n",
       "      <td>DON MILLS</td>\n",
       "      <td>43.7450</td>\n",
       "      <td>-79.3590</td>\n",
       "    </tr>\n",
       "    <tr>\n",
       "      <th>12</th>\n",
       "      <td>M4B</td>\n",
       "      <td>EAST YORK</td>\n",
       "      <td>PARKVIEW HILL, WOODBINE GARDENS</td>\n",
       "      <td>43.7063</td>\n",
       "      <td>-79.3094</td>\n",
       "    </tr>\n",
       "    <tr>\n",
       "      <th>13</th>\n",
       "      <td>M5B</td>\n",
       "      <td>DOWNTOWN TORONTO</td>\n",
       "      <td>GARDEN DISTRICT, RYERSON</td>\n",
       "      <td>43.6572</td>\n",
       "      <td>-79.3783</td>\n",
       "    </tr>\n",
       "    <tr>\n",
       "      <th>14</th>\n",
       "      <td>M6B</td>\n",
       "      <td>NORTH YORK</td>\n",
       "      <td>GLENCAIRN</td>\n",
       "      <td>43.7081</td>\n",
       "      <td>-79.4479</td>\n",
       "    </tr>\n",
       "    <tr>\n",
       "      <th>17</th>\n",
       "      <td>M9B</td>\n",
       "      <td>ETOBICOKE</td>\n",
       "      <td>WEST DEANE PARK, PRINCESS GARDENS, MARTIN GROV...</td>\n",
       "      <td>43.6505</td>\n",
       "      <td>-79.5517</td>\n",
       "    </tr>\n",
       "    <tr>\n",
       "      <th>18</th>\n",
       "      <td>M1C</td>\n",
       "      <td>SCARBOROUGH</td>\n",
       "      <td>ROUGE HILL, PORT UNION, HIGHLAND CREEK</td>\n",
       "      <td>43.7878</td>\n",
       "      <td>-79.1564</td>\n",
       "    </tr>\n",
       "    <tr>\n",
       "      <th>20</th>\n",
       "      <td>M3C</td>\n",
       "      <td>NORTH YORK</td>\n",
       "      <td>DON MILLS</td>\n",
       "      <td>43.7334</td>\n",
       "      <td>-79.3329</td>\n",
       "    </tr>\n",
       "    <tr>\n",
       "      <th>21</th>\n",
       "      <td>M4C</td>\n",
       "      <td>EAST YORK</td>\n",
       "      <td>WOODBINE HEIGHTS</td>\n",
       "      <td>43.6913</td>\n",
       "      <td>-79.3116</td>\n",
       "    </tr>\n",
       "    <tr>\n",
       "      <th>22</th>\n",
       "      <td>M5C</td>\n",
       "      <td>DOWNTOWN TORONTO</td>\n",
       "      <td>ST. JAMES TOWN</td>\n",
       "      <td>43.6513</td>\n",
       "      <td>-79.3756</td>\n",
       "    </tr>\n",
       "    <tr>\n",
       "      <th>23</th>\n",
       "      <td>M6C</td>\n",
       "      <td>YORK</td>\n",
       "      <td>HUMEWOOD-CEDARVALE</td>\n",
       "      <td>43.6915</td>\n",
       "      <td>-79.4307</td>\n",
       "    </tr>\n",
       "    <tr>\n",
       "      <th>26</th>\n",
       "      <td>M9C</td>\n",
       "      <td>ETOBICOKE</td>\n",
       "      <td>ERINGATE, BLOORDALE GARDENS, OLD BURNHAMTHORPE...</td>\n",
       "      <td>43.6437</td>\n",
       "      <td>-79.5767</td>\n",
       "    </tr>\n",
       "    <tr>\n",
       "      <th>27</th>\n",
       "      <td>M1E</td>\n",
       "      <td>SCARBOROUGH</td>\n",
       "      <td>GUILDWOOD, MORNINGSIDE, WEST HILL</td>\n",
       "      <td>43.7678</td>\n",
       "      <td>-79.1866</td>\n",
       "    </tr>\n",
       "    <tr>\n",
       "      <th>30</th>\n",
       "      <td>M4E</td>\n",
       "      <td>EAST TORONTO</td>\n",
       "      <td>THE BEACHES</td>\n",
       "      <td>43.6784</td>\n",
       "      <td>-79.2941</td>\n",
       "    </tr>\n",
       "  </tbody>\n",
       "</table>\n",
       "</div>"
      ],
      "text/plain": [
       "   Postal Code           Borough  \\\n",
       "2          M3A        NORTH YORK   \n",
       "3          M4A        NORTH YORK   \n",
       "4          M5A  DOWNTOWN TORONTO   \n",
       "5          M6A        NORTH YORK   \n",
       "6          M7A  DOWNTOWN TORONTO   \n",
       "8          M9A         ETOBICOKE   \n",
       "9          M1B       SCARBOROUGH   \n",
       "11         M3B        NORTH YORK   \n",
       "12         M4B         EAST YORK   \n",
       "13         M5B  DOWNTOWN TORONTO   \n",
       "14         M6B        NORTH YORK   \n",
       "17         M9B         ETOBICOKE   \n",
       "18         M1C       SCARBOROUGH   \n",
       "20         M3C        NORTH YORK   \n",
       "21         M4C         EAST YORK   \n",
       "22         M5C  DOWNTOWN TORONTO   \n",
       "23         M6C              YORK   \n",
       "26         M9C         ETOBICOKE   \n",
       "27         M1E       SCARBOROUGH   \n",
       "30         M4E      EAST TORONTO   \n",
       "\n",
       "                                         Neighborhood  Latitude  Longitude  \n",
       "2                                           PARKWOODS   43.7545   -79.3300  \n",
       "3                                    VICTORIA VILLAGE   43.7276   -79.3148  \n",
       "4                           REGENT PARK, HARBOURFRONT   43.6555   -79.3626  \n",
       "5                    LAWRENCE MANOR, LAWRENCE HEIGHTS   43.7223   -79.4504  \n",
       "6         QUEEN'S PARK, ONTARIO PROVINCIAL GOVERNMENT   43.6641   -79.3889  \n",
       "8             ISLINGTON AVENUE, HUMBER VALLEY VILLAGE   43.6662   -79.5282  \n",
       "9                                      MALVERN, ROUGE   43.8113   -79.1930  \n",
       "11                                          DON MILLS   43.7450   -79.3590  \n",
       "12                    PARKVIEW HILL, WOODBINE GARDENS   43.7063   -79.3094  \n",
       "13                           GARDEN DISTRICT, RYERSON   43.6572   -79.3783  \n",
       "14                                          GLENCAIRN   43.7081   -79.4479  \n",
       "17  WEST DEANE PARK, PRINCESS GARDENS, MARTIN GROV...   43.6505   -79.5517  \n",
       "18             ROUGE HILL, PORT UNION, HIGHLAND CREEK   43.7878   -79.1564  \n",
       "20                                          DON MILLS   43.7334   -79.3329  \n",
       "21                                   WOODBINE HEIGHTS   43.6913   -79.3116  \n",
       "22                                     ST. JAMES TOWN   43.6513   -79.3756  \n",
       "23                                 HUMEWOOD-CEDARVALE   43.6915   -79.4307  \n",
       "26  ERINGATE, BLOORDALE GARDENS, OLD BURNHAMTHORPE...   43.6437   -79.5767  \n",
       "27                  GUILDWOOD, MORNINGSIDE, WEST HILL   43.7678   -79.1866  \n",
       "30                                        THE BEACHES   43.6784   -79.2941  "
      ]
     },
     "execution_count": 24,
     "metadata": {},
     "output_type": "execute_result"
    }
   ],
   "source": [
    "df_postal_codes.head(20)"
   ]
  },
  {
   "cell_type": "code",
   "execution_count": 29,
   "metadata": {},
   "outputs": [
    {
     "data": {
      "text/plain": [
       "(103, 5)"
      ]
     },
     "execution_count": 29,
     "metadata": {},
     "output_type": "execute_result"
    }
   ],
   "source": [
    "df_postal_codes.shape"
   ]
  }
 ],
 "metadata": {
  "kernelspec": {
   "display_name": "Python 3",
   "language": "python",
   "name": "python3"
  },
  "language_info": {
   "codemirror_mode": {
    "name": "ipython",
    "version": 3
   },
   "file_extension": ".py",
   "mimetype": "text/x-python",
   "name": "python",
   "nbconvert_exporter": "python",
   "pygments_lexer": "ipython3",
   "version": "3.7.8"
  }
 },
 "nbformat": 4,
 "nbformat_minor": 4
}
